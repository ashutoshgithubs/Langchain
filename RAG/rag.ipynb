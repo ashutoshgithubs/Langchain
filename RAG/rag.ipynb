{
 "cells": [
  {
   "cell_type": "code",
   "execution_count": 1,
   "id": "f73c4001",
   "metadata": {},
   "outputs": [],
   "source": [
    "## Data Ingestion -> bringing data from different sources into one place \n",
    "### From txt file\n",
    "from langchain_community.document_loaders import TextLoader\n",
    "loader = TextLoader(\"speech.txt\")\n",
    "text_docs = loader.load()"
   ]
  },
  {
   "cell_type": "code",
   "execution_count": 14,
   "id": "b4a737ab",
   "metadata": {},
   "outputs": [
    {
     "data": {
      "text/plain": [
       "'The world must be made safe for democracy. Its peace must be planted upon the tested foundations of political liberty. We have no selfish ends to serve. We desire no conquest, no dominion. We seek no indemnities for ourselves, no material compensation for the sacrifices we shall freely make. We are but one of the champions of the rights of mankind. We shall be satisfied when those rights have been made as secure as the faith and the freedom of nations can make them.\\n\\nJust because we fight withou'"
      ]
     },
     "execution_count": 14,
     "metadata": {},
     "output_type": "execute_result"
    }
   ],
   "source": [
    "text_docs[0].page_content[:500]  # first 500 characters\n"
   ]
  },
  {
   "cell_type": "code",
   "execution_count": 2,
   "id": "dd76ab50",
   "metadata": {},
   "outputs": [
    {
     "name": "stderr",
     "output_type": "stream",
     "text": [
      "USER_AGENT environment variable not set, consider setting it to identify your requests.\n"
     ]
    }
   ],
   "source": [
    "## From Web \n",
    "from langchain_community.document_loaders import WebBaseLoader\n",
    "import bs4\n",
    "# loader = WebBaseLoader(\n",
    "#     web_paths=(\"https://medium.com/@ashubhai/webrtc-applications-with-node-js-and-react-js-7f4d4313bace\",),\n",
    "#     bs_kwargs=dict(\n",
    "#         parse_only=bs4.SoupStrainer(\n",
    "#             class_=(\"pw-post-title\",\"pw-post-body\") \n",
    "#         )\n",
    "#     )\n",
    "# )\n",
    "\n",
    "loader = WebBaseLoader(\n",
    "    web_paths=(\"https://medium.com/@ashubhai/webrtc-applications-with-node-js-and-react-js-7f4d4313bace\",),\n",
    "    bs_kwargs=dict(\n",
    "        parse_only=bs4.SoupStrainer(\n",
    "            \"p\"  \n",
    "        )\n",
    "    )\n",
    ")\n",
    "\n",
    "web_docs = loader.load()\n",
    "\n"
   ]
  },
  {
   "cell_type": "code",
   "execution_count": 3,
   "id": "c0f39894",
   "metadata": {},
   "outputs": [
    {
     "data": {
      "text/plain": [
       "'(Web Real-Time Communication) is a groundbreaking technology enabling real-time multi-media communication within web browsers. By eliminating the need for third-party plugins or software, it facilitates seamless, efficient, and accessible browser-based interactions. In this article, we’ll explore how WebRTC works, its core components, and implement a real-time communication application using Node.js as the signaling server and React.js for the frontend.3. Open Standard:WebRTC’s open standard ensures compatibility across major browsers and platforms, encouraging widespread adoption.The above image shows two browsers directly connected to each other in a P2P mode. In a WebRTC P2P connection, media data (audio, video, etc.) is transmitted directly between the two peers without going through an intermediary server. This direct connection enhances efficiency and reduces latency.While media data is transmitted directly between peers, WebRTC requires certain servers for specific tasks like signaling, NAT traversal, and media handling.2. Signaling Server:This facilitates the initial handshake between peers, exchanging metadata and connection details like IPs. It is implemented using Web-Socket or HTTP.3. STUN and TURN Servers:The above image shows two browsers communicating through a STUN server and a signaling server. The STUN server helps determine the public IP addresses of the peers, which is crucial for establishing a direct P2P connection, especially when the peers are behind Network Address Translation (NAT) devices like routers.STUN can bridge P2P connections for most NATs except the few cases where it has unpredictable port mapping. In such cases, the two peers simply cannot talk 1-on-1 directly, and all their traffic is relayed through a TURN server. TURN stands for Traversal Using Relay NAT that has public addresses, so they can be contacted by peers even if the peers are behind firewalls or proxies. It can be used as a fallback, relaying audio/video/data streaming between peers just like a traditional media server-based architecture.4. ICE Candidates:Represents potential connection endpoints. Browsers exchange ICE candidates to finalize the best connection path.5. Offer and Answer Model:Establishing a WebRTC connection between two peers involves a series of steps facilitated by the signaling server and the RTCPeerConnection API provided by the browser. Here’s a breakdown of the process:At this point, the WebRTC connection is established between the two peers, and they can start exchanging media data directly in a peer-to-peer fashion.To actually send and receive media (audio and video), additional steps are required:To build a WebRTC application, we will utilize Node.js to set up the signaling server and React on the frontend, leveraging the RTCPeerConnection API for real-time communication.The signaling server will be built using Node.js and will act as a WebSocket server to facilitate the exchange of signaling messages between the peers. It will support three types of messages:2. Frontend with React.jsEstablishing the WebRTC Connection:Exchanging ICE Candidates:Sending and Receiving Media:Access the Full Code Repository: WebRTCWebRTC offers a robust framework for real-time peer-to-peer communication, but implementing it from scratch can be complex due to extensive boilerplate code. Thankfully, third-party libraries like PeerJS streamline this process. PeerJS abstracts the complexity of establishing WebRTC connections, providing developers with a user-friendly API. This allows you to focus on building your application’s core logic while leaving the intricate details of WebRTC to the library.While P2P communication is excellent for one-on-one or small group calls, it faces significant challenges when scaling to larger groups:To overcome these limitations, alternative architectures like SFU and MCU are commonly used in WebRTC implementations:These architectures address the scalability and performance challenges of P2P and are better suited for large-scale applications. We’ll discuss these architectures, their advantages, and real-world use cases in a separate article.WebRTC opens up endless possibilities for real-time applications, from video conferencing to gaming. By combining Node.js for signaling and React.js for the frontend, we can efficiently harness WebRTC’s power to create dynamic and responsive communication platforms. Whether you’re building a one-to-one chat app or a multi-user video conferencing tool, WebRTC’s capabilities and ease of integration make it the perfect choice.Have questions or want to discuss WebRTC further? Feel free to reach out to me on X !----A Full stack developer from India.HelpStatusAboutCareersPressBlogPrivacyRulesTermsText to speech'"
      ]
     },
     "execution_count": 3,
     "metadata": {},
     "output_type": "execute_result"
    }
   ],
   "source": [
    "web_docs[0].page_content[48:]"
   ]
  },
  {
   "cell_type": "code",
   "execution_count": 5,
   "id": "21bf0ff0",
   "metadata": {},
   "outputs": [],
   "source": [
    "## From PDF\n",
    "from langchain_community.document_loaders import PyPDFLoader\n",
    "loader = PyPDFLoader(\"DBMS_Full_Notes.pdf\")\n",
    "docs=loader.load()"
   ]
  },
  {
   "cell_type": "code",
   "execution_count": null,
   "id": "7f363ccd",
   "metadata": {},
   "outputs": [
    {
     "name": "stdout",
     "output_type": "stream",
     "text": [
      "LEC-1: Introduction to DBMS 1. What is Data? a. Data is a collection of raw, unorganized facts and details like text, observations, figures, symbols, and descriptions of things etc. In other words, data does not carry any specific purpose and has no significance by itself. Moreover, data is measured in terms of bits and bytes – which are basic units of information in the context of computer storage and processing. b. Data can be recorded and doesn’t have any meaning unless processed. 2. Types of Data a. Quantitative i. Numerical form ii. Weight, volume, cost of an item. b. Qualitative i. Descriptive, but not numerical. ii. Name, gender, hair color of a person. 3. What is Information? a. Info. Is processed, organized, and structured data. b. It provides context of the data and enables decision making. c. Processed data that make sense to us. d. Information is extracted from the data, by analyzing and interpreting pieces of data. e. E.g., you have data of all the people living in your locality, its Data, when you analyze and i nterpret th e data and come to some conclusion that: i. There are 100 senior citizens. ii. The sex ratio is 1.1. iii. Newborn babies are 100. These are information. 4. Data vs Information a. Data is a collection of facts, while information puts those facts into context. b. While data is raw and unorganized, information is organized. c. Data points are individual and sometimes unrelated. Information maps out that data to provide a big-picture view of how it all fits together. d. Data, on its own, is meaningless. When it’s analyzed and interpreted, it becomes meaningful information . e. Da ta does not depend on information; however, information depends on data. f. Data typically comes in the form of graphs, numbers, figures, or statistics. Information is typically pr esented through words, language, thoughts, and ideas. g. Data isn’t sufficient for decision-making, but you can make decisions based on information. 5. What is Database? a. Database is an electronic place/system where data is stored in a way that it can be easily accessed, managed, and updated. b. To make real use Data, we need Database management system s. (DBMS) 6. What is DBMS? a. A database-management system (DBMS) is a collection of interrelated data and a set of programs to access those data. The collection of data, usually referred to as the database, contai ns information relevant to an enterprise. The primary goal of a DBMS is to provide a way to store and retrieve database information that is both convenient and efficient. b. A DBMS is the database itself, along with all the software and functionality. It is used to perform different operations, like addition, access, updating, and deletion of the data. CodeHelp\n"
     ]
    }
   ],
   "source": [
    "import re\n",
    "text = docs[0].page_content\n",
    "clean_text = re.sub(r'\\s+', ' ', text)  # collapse multiple spaces/newlines\n",
    "print(clean_text)\n"
   ]
  },
  {
   "cell_type": "code",
   "execution_count": 12,
   "id": "0aaf2e70",
   "metadata": {},
   "outputs": [],
   "source": [
    "## Lets divide the documents into smaller chunks\n",
    "from langchain.text_splitter import RecursiveCharacterTextSplitter\n",
    "text_splitter = RecursiveCharacterTextSplitter(\n",
    "    chunk_size=1000,\n",
    "    chunk_overlap=200\n",
    ")\n",
    "documents = text_splitter.split_documents(docs)"
   ]
  },
  {
   "cell_type": "code",
   "execution_count": 15,
   "id": "6e332823",
   "metadata": {},
   "outputs": [
    {
     "name": "stdout",
     "output_type": "stream",
     "text": [
      "LEC-1: Introduction to DBMS 1. What is Data? a. Data is a collection of raw, unorganized facts and details like text, observations, figures, symbols, and descriptions of things etc. In other words, data does not carry any specific purpose and has no significance by itself. Moreover, data is measured in terms of bits and bytes – which are basic units of information in the context of computer storage and processing. b. Data can be recorded and doesn’t have any meaning unless processed. 2. Types of Data a. Quantitative i. Numerical form ii. Weight, volume, cost of an item. b. Qualitative i. Descriptive, but not numerical. ii. Name, gender, hair color of a person. 3. What is Information? a. Info. Is processed, organized, and structured data. b. It provides context of the data and enables decision making. c. Processed data that make sense to us. d. Information is extracted from the data, by analyzing and interpreting pieces of data.\n"
     ]
    }
   ],
   "source": [
    "import re\n",
    "text = documents[0].page_content\n",
    "clean_text = re.sub(r'\\s+', ' ', text)  # collapse multiple spaces/newlines\n",
    "print(clean_text)\n"
   ]
  },
  {
   "cell_type": "code",
   "execution_count": 20,
   "id": "1563b804",
   "metadata": {},
   "outputs": [],
   "source": [
    "## Vector Embedding And Vector Store\n",
    "from langchain_ollama import OllamaEmbeddings\n",
    "from langchain_community.vectorstores import Chroma\n",
    "embeddings = OllamaEmbeddings(model=\"llama3.2:1b\")\n",
    "db = Chroma.from_documents(documents,embeddings)"
   ]
  },
  {
   "cell_type": "code",
   "execution_count": 24,
   "id": "bd3bacc8",
   "metadata": {},
   "outputs": [
    {
     "name": "stdout",
     "output_type": "stream",
     "text": [
      "b. The overall design of the DB is called the DB schema.\n",
      "c. Schema is structural description of data. Schema doesn’t change frequently. Data may change\n",
      "frequently.\n",
      "d. DB schema corresponds to the variable declarations (along with type) in a program.\n",
      "e. We have 3 types of Schemas: Physical, Logical, several view schemas called subschemas.\n",
      "f. Logical schema is most important in terms of its effect on application programs, as programmers\n",
      "construct apps by using logical schema.\n",
      "g. Physical data independence, physical schema change should not affect logical\n",
      "sch\n",
      "ema/application programs.\n",
      "3. Data Models:\n",
      "a. Provides a way to describe the design of a DB at logical level.\n",
      "b. Underlying the structure of the DB is the Data Model; a collection of conceptual tools for describing\n",
      "data, data relationships, data semantics & consistency constraints.\n",
      "c. E.g., ER model, Relational Model, object-oriented model, object-relational data model etc.\n",
      "4. Database Languages:\n"
     ]
    }
   ],
   "source": [
    "query = \"Types of data?\"\n",
    "retireved_results=db.similarity_search(query)\n",
    "print(retireved_results[0].page_content)"
   ]
  },
  {
   "cell_type": "code",
   "execution_count": null,
   "id": "32b17d4d",
   "metadata": {},
   "outputs": [],
   "source": []
  }
 ],
 "metadata": {
  "kernelspec": {
   "display_name": ".venv",
   "language": "python",
   "name": "python3"
  },
  "language_info": {
   "codemirror_mode": {
    "name": "ipython",
    "version": 3
   },
   "file_extension": ".py",
   "mimetype": "text/x-python",
   "name": "python",
   "nbconvert_exporter": "python",
   "pygments_lexer": "ipython3",
   "version": "3.13.7"
  }
 },
 "nbformat": 4,
 "nbformat_minor": 5
}
